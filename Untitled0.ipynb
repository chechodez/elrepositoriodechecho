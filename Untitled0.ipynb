{
  "nbformat": 4,
  "nbformat_minor": 0,
  "metadata": {
    "colab": {
      "name": "Untitled0.ipynb",
      "provenance": [],
      "collapsed_sections": [],
      "authorship_tag": "ABX9TyNXMbRtfY+6/2kz7Ex1vTh5",
      "include_colab_link": true
    },
    "kernelspec": {
      "name": "python3",
      "display_name": "Python 3"
    },
    "language_info": {
      "name": "python"
    }
  },
  "cells": [
    {
      "cell_type": "markdown",
      "metadata": {
        "id": "view-in-github",
        "colab_type": "text"
      },
      "source": [
        "<a href=\"https://colab.research.google.com/github/chechodez/elrepositoriodechecho/blob/main/Untitled0.ipynb\" target=\"_parent\"><img src=\"https://colab.research.google.com/assets/colab-badge.svg\" alt=\"Open In Colab\"/></a>"
      ]
    },
    {
      "cell_type": "code",
      "metadata": {
        "colab": {
          "base_uri": "https://localhost:8080/"
        },
        "id": "A95H8MHrM9uR",
        "outputId": "0b838266-45b0-412e-da80-ad4f240f0be2"
      },
      "source": [
        "## Importando las librerÃ­as\n",
        "import pandas as pd\n",
        "import numpy as np\n",
        "def funcCosto(arr_1, arr_2):\n",
        "  J = (arr_1-arr_2)**2\n",
        "  return np.sum(J)/(2*len(J))\n",
        "dataframeGold = pd.read_csv('gold_price_data.csv')\n",
        "#print(dataframeGold.columns)\n",
        "dataframeGold.describe()\n",
        "#print(dataframeGold.dtypes)\n",
        "dataframeGold.head(10)\n",
        "etiqueta = np.array(dataframeGold['Value'])[2:]\n",
        "car_m1 = np.array(dataframeGold['Value'])[1:-1]\n",
        "car_m2 = np.array(dataframeGold['Value'])[:-2]\n",
        "#print(len(etiqueta))\n",
        "#print(len(car_m1))\n",
        "#print(len(car_m2))\n",
        "## Agrupando los datos en un Ãºnico Dataframe y exportÃ¡ndolo a un archivo CSV\n",
        "dataset = pd.DataFrame({'Carac menos 2':car_m2, 'Carac menos 1':car_m1, 'Etiqueta':etiqueta})\n",
        "dataset.to_csv('goldPriceArranged.csv')\n",
        "## Pasando los datos a una matriz de tipo numpy\n",
        "matrizDatos = dataset.to_numpy()\n",
        "#print(matrizDatos.shape)\n",
        "\n",
        "listaj=[]\n",
        "lista1=[]\n",
        "lista2=[]\n",
        "\n",
        "J,T0,T1,min=0,0,0,100\n",
        "for T0i in np.arange(-2,2,0.01):\n",
        "    for T1j in np.arange(-2,2,0.01):\n",
        "        h=T0i*car_m1+T1j*car_m2\n",
        "        J=funcCosto(h,etiqueta)\n",
        "        if(J<min):\n",
        "            min=J\n",
        "            T0=T0i\n",
        "            T1=T1j\n",
        "print(\"El valor de tetha 0 es:\"+str(T0)+\" El valor de tetha 1 es: \"+str(T1)+\" El valor de la función de costo mínimo es: \"+str(min))"
      ],
      "execution_count": 2,
      "outputs": [
        {
          "output_type": "stream",
          "text": [
            "El valor de tetha 0 es:0.9900000000000029 El valor de tetha 1 es: 0.010000000000001563 El valor de la función de costo mínimo es: 40.803401532663564\n"
          ],
          "name": "stdout"
        }
      ]
    }
  ]
}